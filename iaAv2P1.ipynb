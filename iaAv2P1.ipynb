{
  "nbformat": 4,
  "nbformat_minor": 0,
  "metadata": {
    "colab": {
      "name": "iaAv2P1.ipynb",
      "provenance": [],
      "collapsed_sections": []
    },
    "kernelspec": {
      "display_name": "Python 3",
      "name": "python3"
    },
    "language_info": {
      "name": "python"
    }
  },
  "cells": [
    {
      "cell_type": "markdown",
      "metadata": {
        "id": "BdK5ErLlW7k7"
      },
      "source": [
        "Questão 1"
      ]
    },
    {
      "cell_type": "code",
      "metadata": {
        "id": "ApGPk4SXouv4"
      },
      "source": [
        "import pandas as pd\n",
        "import numpy as np\n",
        "import matplotlib.pyplot as plt\n",
        "%matplotlib inline\n",
        "\n",
        "from sklearn.svm import SVC\n",
        "import seaborn as sns\n",
        "from sklearn import svm\n",
        "\n",
        "from sklearn.pipeline import Pipeline\n",
        "from sklearn.preprocessing import StandardScaler\n",
        "from sklearn.preprocessing import MinMaxScaler\n",
        "\n",
        "from sklearn.model_selection import cross_val_predict\n",
        "from sklearn import metrics\n",
        "from sklearn.model_selection import train_test_split\n",
        "\n",
        "from sklearn.neighbors import KNeighborsClassifier\n",
        "from sklearn.metrics import classification_report\n",
        "from sklearn.model_selection import cross_val_score\n",
        "from sklearn.model_selection import train_test_split"
      ],
      "execution_count": 244,
      "outputs": []
    },
    {
      "cell_type": "markdown",
      "metadata": {
        "id": "o9TCjVw4w1Av"
      },
      "source": [
        "**Questão1** Inspecione os dados. Quantos exemplos você tem? Qual o intervalo de valores de cada feature? "
      ]
    },
    {
      "cell_type": "code",
      "metadata": {
        "colab": {
          "base_uri": "https://localhost:8080/",
          "height": 391
        },
        "id": "I3osOsKXytu-",
        "outputId": "0515d627-0390-4e06-c32c-2abf43cd7f7e"
      },
      "source": [
        "#QUANTIDADE\n",
        "df= pd.read_csv('wineQuality_val.data')\n",
        "df"
      ],
      "execution_count": 245,
      "outputs": [
        {
          "output_type": "execute_result",
          "data": {
            "text/html": [
              "<div>\n",
              "<style scoped>\n",
              "    .dataframe tbody tr th:only-of-type {\n",
              "        vertical-align: middle;\n",
              "    }\n",
              "\n",
              "    .dataframe tbody tr th {\n",
              "        vertical-align: top;\n",
              "    }\n",
              "\n",
              "    .dataframe thead th {\n",
              "        text-align: right;\n",
              "    }\n",
              "</style>\n",
              "<table border=\"1\" class=\"dataframe\">\n",
              "  <thead>\n",
              "    <tr style=\"text-align: right;\">\n",
              "      <th></th>\n",
              "      <th>fixed.acidity</th>\n",
              "      <th>volatile.acidity</th>\n",
              "      <th>citric.acid</th>\n",
              "      <th>residual.sugar</th>\n",
              "      <th>chlorides</th>\n",
              "      <th>free.sulfur.dioxide</th>\n",
              "      <th>total.sulfur.dioxide</th>\n",
              "      <th>density</th>\n",
              "      <th>pH</th>\n",
              "      <th>sulphates</th>\n",
              "      <th>alcohol</th>\n",
              "      <th>quality</th>\n",
              "    </tr>\n",
              "  </thead>\n",
              "  <tbody>\n",
              "    <tr>\n",
              "      <th>0</th>\n",
              "      <td>6.0</td>\n",
              "      <td>0.29</td>\n",
              "      <td>0.27</td>\n",
              "      <td>2.30</td>\n",
              "      <td>0.044</td>\n",
              "      <td>20.0</td>\n",
              "      <td>117.0</td>\n",
              "      <td>0.98950</td>\n",
              "      <td>3.31</td>\n",
              "      <td>0.41</td>\n",
              "      <td>12.7</td>\n",
              "      <td>1</td>\n",
              "    </tr>\n",
              "    <tr>\n",
              "      <th>1</th>\n",
              "      <td>7.4</td>\n",
              "      <td>0.60</td>\n",
              "      <td>0.26</td>\n",
              "      <td>2.10</td>\n",
              "      <td>0.083</td>\n",
              "      <td>17.0</td>\n",
              "      <td>91.0</td>\n",
              "      <td>0.99616</td>\n",
              "      <td>3.29</td>\n",
              "      <td>0.56</td>\n",
              "      <td>9.8</td>\n",
              "      <td>1</td>\n",
              "    </tr>\n",
              "    <tr>\n",
              "      <th>2</th>\n",
              "      <td>7.4</td>\n",
              "      <td>0.29</td>\n",
              "      <td>0.28</td>\n",
              "      <td>10.20</td>\n",
              "      <td>0.032</td>\n",
              "      <td>43.0</td>\n",
              "      <td>138.0</td>\n",
              "      <td>0.99510</td>\n",
              "      <td>3.10</td>\n",
              "      <td>0.47</td>\n",
              "      <td>10.6</td>\n",
              "      <td>1</td>\n",
              "    </tr>\n",
              "    <tr>\n",
              "      <th>3</th>\n",
              "      <td>7.8</td>\n",
              "      <td>0.46</td>\n",
              "      <td>0.26</td>\n",
              "      <td>1.90</td>\n",
              "      <td>0.088</td>\n",
              "      <td>23.0</td>\n",
              "      <td>53.0</td>\n",
              "      <td>0.99810</td>\n",
              "      <td>3.43</td>\n",
              "      <td>0.74</td>\n",
              "      <td>9.2</td>\n",
              "      <td>1</td>\n",
              "    </tr>\n",
              "    <tr>\n",
              "      <th>4</th>\n",
              "      <td>6.8</td>\n",
              "      <td>0.25</td>\n",
              "      <td>0.34</td>\n",
              "      <td>4.70</td>\n",
              "      <td>0.031</td>\n",
              "      <td>34.0</td>\n",
              "      <td>134.0</td>\n",
              "      <td>0.99270</td>\n",
              "      <td>3.21</td>\n",
              "      <td>0.38</td>\n",
              "      <td>10.6</td>\n",
              "      <td>1</td>\n",
              "    </tr>\n",
              "    <tr>\n",
              "      <th>...</th>\n",
              "      <td>...</td>\n",
              "      <td>...</td>\n",
              "      <td>...</td>\n",
              "      <td>...</td>\n",
              "      <td>...</td>\n",
              "      <td>...</td>\n",
              "      <td>...</td>\n",
              "      <td>...</td>\n",
              "      <td>...</td>\n",
              "      <td>...</td>\n",
              "      <td>...</td>\n",
              "      <td>...</td>\n",
              "    </tr>\n",
              "    <tr>\n",
              "      <th>1294</th>\n",
              "      <td>6.8</td>\n",
              "      <td>0.19</td>\n",
              "      <td>0.58</td>\n",
              "      <td>14.20</td>\n",
              "      <td>0.038</td>\n",
              "      <td>51.0</td>\n",
              "      <td>164.0</td>\n",
              "      <td>0.99750</td>\n",
              "      <td>3.12</td>\n",
              "      <td>0.48</td>\n",
              "      <td>9.6</td>\n",
              "      <td>1</td>\n",
              "    </tr>\n",
              "    <tr>\n",
              "      <th>1295</th>\n",
              "      <td>6.6</td>\n",
              "      <td>0.24</td>\n",
              "      <td>0.28</td>\n",
              "      <td>1.80</td>\n",
              "      <td>0.028</td>\n",
              "      <td>39.0</td>\n",
              "      <td>132.0</td>\n",
              "      <td>0.99182</td>\n",
              "      <td>3.34</td>\n",
              "      <td>0.46</td>\n",
              "      <td>11.4</td>\n",
              "      <td>0</td>\n",
              "    </tr>\n",
              "    <tr>\n",
              "      <th>1296</th>\n",
              "      <td>6.2</td>\n",
              "      <td>0.35</td>\n",
              "      <td>0.29</td>\n",
              "      <td>7.30</td>\n",
              "      <td>0.044</td>\n",
              "      <td>56.0</td>\n",
              "      <td>244.0</td>\n",
              "      <td>0.99560</td>\n",
              "      <td>3.36</td>\n",
              "      <td>0.55</td>\n",
              "      <td>10.0</td>\n",
              "      <td>1</td>\n",
              "    </tr>\n",
              "    <tr>\n",
              "      <th>1297</th>\n",
              "      <td>7.2</td>\n",
              "      <td>0.17</td>\n",
              "      <td>0.28</td>\n",
              "      <td>17.55</td>\n",
              "      <td>0.050</td>\n",
              "      <td>33.0</td>\n",
              "      <td>154.0</td>\n",
              "      <td>0.99971</td>\n",
              "      <td>2.94</td>\n",
              "      <td>0.43</td>\n",
              "      <td>9.0</td>\n",
              "      <td>1</td>\n",
              "    </tr>\n",
              "    <tr>\n",
              "      <th>1298</th>\n",
              "      <td>7.5</td>\n",
              "      <td>0.19</td>\n",
              "      <td>0.34</td>\n",
              "      <td>2.60</td>\n",
              "      <td>0.037</td>\n",
              "      <td>33.0</td>\n",
              "      <td>125.0</td>\n",
              "      <td>0.99230</td>\n",
              "      <td>3.10</td>\n",
              "      <td>0.49</td>\n",
              "      <td>11.1</td>\n",
              "      <td>1</td>\n",
              "    </tr>\n",
              "  </tbody>\n",
              "</table>\n",
              "<p>1299 rows × 12 columns</p>\n",
              "</div>"
            ],
            "text/plain": [
              "      fixed.acidity  volatile.acidity  citric.acid  ...  sulphates  alcohol  quality\n",
              "0               6.0              0.29         0.27  ...       0.41     12.7        1\n",
              "1               7.4              0.60         0.26  ...       0.56      9.8        1\n",
              "2               7.4              0.29         0.28  ...       0.47     10.6        1\n",
              "3               7.8              0.46         0.26  ...       0.74      9.2        1\n",
              "4               6.8              0.25         0.34  ...       0.38     10.6        1\n",
              "...             ...               ...          ...  ...        ...      ...      ...\n",
              "1294            6.8              0.19         0.58  ...       0.48      9.6        1\n",
              "1295            6.6              0.24         0.28  ...       0.46     11.4        0\n",
              "1296            6.2              0.35         0.29  ...       0.55     10.0        1\n",
              "1297            7.2              0.17         0.28  ...       0.43      9.0        1\n",
              "1298            7.5              0.19         0.34  ...       0.49     11.1        1\n",
              "\n",
              "[1299 rows x 12 columns]"
            ]
          },
          "metadata": {
            "tags": []
          },
          "execution_count": 245
        }
      ]
    },
    {
      "cell_type": "code",
      "metadata": {
        "colab": {
          "base_uri": "https://localhost:8080/",
          "height": 297
        },
        "id": "wG1_tItLvJPn",
        "outputId": "c156ed2c-2bc8-4aef-8c5e-dc5ff23951fb"
      },
      "source": [
        "#INTERVALOS\n",
        "df.describe()"
      ],
      "execution_count": 246,
      "outputs": [
        {
          "output_type": "execute_result",
          "data": {
            "text/html": [
              "<div>\n",
              "<style scoped>\n",
              "    .dataframe tbody tr th:only-of-type {\n",
              "        vertical-align: middle;\n",
              "    }\n",
              "\n",
              "    .dataframe tbody tr th {\n",
              "        vertical-align: top;\n",
              "    }\n",
              "\n",
              "    .dataframe thead th {\n",
              "        text-align: right;\n",
              "    }\n",
              "</style>\n",
              "<table border=\"1\" class=\"dataframe\">\n",
              "  <thead>\n",
              "    <tr style=\"text-align: right;\">\n",
              "      <th></th>\n",
              "      <th>fixed.acidity</th>\n",
              "      <th>volatile.acidity</th>\n",
              "      <th>citric.acid</th>\n",
              "      <th>residual.sugar</th>\n",
              "      <th>chlorides</th>\n",
              "      <th>free.sulfur.dioxide</th>\n",
              "      <th>total.sulfur.dioxide</th>\n",
              "      <th>density</th>\n",
              "      <th>pH</th>\n",
              "      <th>sulphates</th>\n",
              "      <th>alcohol</th>\n",
              "      <th>quality</th>\n",
              "    </tr>\n",
              "  </thead>\n",
              "  <tbody>\n",
              "    <tr>\n",
              "      <th>count</th>\n",
              "      <td>1299.000000</td>\n",
              "      <td>1299.000000</td>\n",
              "      <td>1299.000000</td>\n",
              "      <td>1299.000000</td>\n",
              "      <td>1299.000000</td>\n",
              "      <td>1299.000000</td>\n",
              "      <td>1299.000000</td>\n",
              "      <td>1299.000000</td>\n",
              "      <td>1299.000000</td>\n",
              "      <td>1299.000000</td>\n",
              "      <td>1299.000000</td>\n",
              "      <td>1299.000000</td>\n",
              "    </tr>\n",
              "    <tr>\n",
              "      <th>mean</th>\n",
              "      <td>7.234681</td>\n",
              "      <td>0.339530</td>\n",
              "      <td>0.320824</td>\n",
              "      <td>5.567129</td>\n",
              "      <td>0.055640</td>\n",
              "      <td>30.279446</td>\n",
              "      <td>116.666282</td>\n",
              "      <td>0.994677</td>\n",
              "      <td>3.215989</td>\n",
              "      <td>0.527621</td>\n",
              "      <td>10.538992</td>\n",
              "      <td>0.643572</td>\n",
              "    </tr>\n",
              "    <tr>\n",
              "      <th>std</th>\n",
              "      <td>1.242974</td>\n",
              "      <td>0.165164</td>\n",
              "      <td>0.144686</td>\n",
              "      <td>4.858121</td>\n",
              "      <td>0.033416</td>\n",
              "      <td>17.117615</td>\n",
              "      <td>56.352433</td>\n",
              "      <td>0.003002</td>\n",
              "      <td>0.157278</td>\n",
              "      <td>0.140893</td>\n",
              "      <td>1.207854</td>\n",
              "      <td>0.479128</td>\n",
              "    </tr>\n",
              "    <tr>\n",
              "      <th>min</th>\n",
              "      <td>3.900000</td>\n",
              "      <td>0.090000</td>\n",
              "      <td>0.000000</td>\n",
              "      <td>0.600000</td>\n",
              "      <td>0.012000</td>\n",
              "      <td>1.000000</td>\n",
              "      <td>6.000000</td>\n",
              "      <td>0.987130</td>\n",
              "      <td>2.720000</td>\n",
              "      <td>0.220000</td>\n",
              "      <td>8.400000</td>\n",
              "      <td>0.000000</td>\n",
              "    </tr>\n",
              "    <tr>\n",
              "      <th>25%</th>\n",
              "      <td>6.400000</td>\n",
              "      <td>0.230000</td>\n",
              "      <td>0.250000</td>\n",
              "      <td>1.800000</td>\n",
              "      <td>0.037000</td>\n",
              "      <td>17.000000</td>\n",
              "      <td>80.500000</td>\n",
              "      <td>0.992200</td>\n",
              "      <td>3.110000</td>\n",
              "      <td>0.430000</td>\n",
              "      <td>9.500000</td>\n",
              "      <td>0.000000</td>\n",
              "    </tr>\n",
              "    <tr>\n",
              "      <th>50%</th>\n",
              "      <td>7.000000</td>\n",
              "      <td>0.300000</td>\n",
              "      <td>0.310000</td>\n",
              "      <td>3.000000</td>\n",
              "      <td>0.047000</td>\n",
              "      <td>28.000000</td>\n",
              "      <td>117.000000</td>\n",
              "      <td>0.994900</td>\n",
              "      <td>3.200000</td>\n",
              "      <td>0.510000</td>\n",
              "      <td>10.400000</td>\n",
              "      <td>1.000000</td>\n",
              "    </tr>\n",
              "    <tr>\n",
              "      <th>75%</th>\n",
              "      <td>7.700000</td>\n",
              "      <td>0.400000</td>\n",
              "      <td>0.400000</td>\n",
              "      <td>8.300000</td>\n",
              "      <td>0.063500</td>\n",
              "      <td>41.000000</td>\n",
              "      <td>155.000000</td>\n",
              "      <td>0.996900</td>\n",
              "      <td>3.310000</td>\n",
              "      <td>0.590000</td>\n",
              "      <td>11.400000</td>\n",
              "      <td>1.000000</td>\n",
              "    </tr>\n",
              "    <tr>\n",
              "      <th>max</th>\n",
              "      <td>12.900000</td>\n",
              "      <td>1.180000</td>\n",
              "      <td>1.230000</td>\n",
              "      <td>31.600000</td>\n",
              "      <td>0.415000</td>\n",
              "      <td>131.000000</td>\n",
              "      <td>313.000000</td>\n",
              "      <td>1.010300</td>\n",
              "      <td>3.820000</td>\n",
              "      <td>1.610000</td>\n",
              "      <td>14.200000</td>\n",
              "      <td>1.000000</td>\n",
              "    </tr>\n",
              "  </tbody>\n",
              "</table>\n",
              "</div>"
            ],
            "text/plain": [
              "       fixed.acidity  volatile.acidity  ...      alcohol      quality\n",
              "count    1299.000000       1299.000000  ...  1299.000000  1299.000000\n",
              "mean        7.234681          0.339530  ...    10.538992     0.643572\n",
              "std         1.242974          0.165164  ...     1.207854     0.479128\n",
              "min         3.900000          0.090000  ...     8.400000     0.000000\n",
              "25%         6.400000          0.230000  ...     9.500000     0.000000\n",
              "50%         7.000000          0.300000  ...    10.400000     1.000000\n",
              "75%         7.700000          0.400000  ...    11.400000     1.000000\n",
              "max        12.900000          1.180000  ...    14.200000     1.000000\n",
              "\n",
              "[8 rows x 12 columns]"
            ]
          },
          "metadata": {
            "tags": []
          },
          "execution_count": 246
        }
      ]
    },
    {
      "cell_type": "markdown",
      "metadata": {
        "id": "6LY1Rxybw68X"
      },
      "source": [
        "**Questão2** Normalize os dados de modo que eles fiquem todos no mesmo intervalo. "
      ]
    },
    {
      "cell_type": "code",
      "metadata": {
        "colab": {
          "base_uri": "https://localhost:8080/"
        },
        "id": "VieKqe9MfV6m",
        "outputId": "2a1fc47f-bd2c-4721-fce4-21fd1eec99c0"
      },
      "source": [
        "#NORMALIZACAO\n",
        "df.value_counts(normalize=True)"
      ],
      "execution_count": 247,
      "outputs": [
        {
          "output_type": "execute_result",
          "data": {
            "text/plain": [
              "fixed.acidity  volatile.acidity  citric.acid  residual.sugar  chlorides  free.sulfur.dioxide  total.sulfur.dioxide  density  pH    sulphates  alcohol  quality\n",
              "6.5            0.230             0.36         16.3            0.038      43.0                 133.0                 0.99924  3.26  0.41       8.8      0          0.002309\n",
              "7.7            0.300             0.42         14.3            0.045      45.0                 213.0                 0.99910  3.18  0.63       9.2      0          0.002309\n",
              "6.2            0.240             0.22         7.9             0.053      45.0                 149.0                 0.99545  3.23  0.52       9.3      0          0.001540\n",
              "7.1            0.260             0.34         14.4            0.067      35.0                 189.0                 0.99860  3.07  0.53       9.1      1          0.001540\n",
              "7.5            0.240             0.31         13.1            0.050      26.0                 180.0                 0.99884  3.05  0.53       9.1      1          0.001540\n",
              "                                                                                                                                                                    ...   \n",
              "7.4            0.300             0.30         5.2             0.053      45.0                 163.0                 0.99410  3.12  0.45       10.3     1          0.000770\n",
              "                                 0.49         8.2             0.055      49.0                 188.0                 0.99740  3.52  0.58       9.7      1          0.000770\n",
              "               0.310             0.28         1.6             0.050      33.0                 137.0                 0.99290  3.31  0.56       10.5     1          0.000770\n",
              "                                 0.48         14.2            0.042      62.0                 204.0                 0.99830  3.06  0.59       9.4      0          0.000770\n",
              "3.9            0.225             0.40         4.2             0.030      29.0                 118.0                 0.98900  3.57  0.36       12.8     1          0.000770\n",
              "Length: 1255, dtype: float64"
            ]
          },
          "metadata": {
            "tags": []
          },
          "execution_count": 247
        }
      ]
    },
    {
      "cell_type": "markdown",
      "metadata": {
        "id": "qimCrMHfw_RT"
      },
      "source": [
        "**Questão3** Treine um SVM para predizer a qualidade dos vinhos."
      ]
    },
    {
      "cell_type": "code",
      "metadata": {
        "colab": {
          "base_uri": "https://localhost:8080/"
        },
        "id": "une3_wcyvaP4",
        "outputId": "cc0704e0-e3ab-4310-b9a0-0ee373f0e232"
      },
      "source": [
        "#SVM\n",
        "classifier =SVC(kernel ='rbf', random_state=0)\n",
        "classifier.fit(x_train,y_train)"
      ],
      "execution_count": 248,
      "outputs": [
        {
          "output_type": "execute_result",
          "data": {
            "text/plain": [
              "SVC(C=1.0, break_ties=False, cache_size=200, class_weight=None, coef0=0.0,\n",
              "    decision_function_shape='ovr', degree=3, gamma='scale', kernel='rbf',\n",
              "    max_iter=-1, probability=False, random_state=0, shrinking=True, tol=0.001,\n",
              "    verbose=False)"
            ]
          },
          "metadata": {
            "tags": []
          },
          "execution_count": 248
        }
      ]
    },
    {
      "cell_type": "code",
      "metadata": {
        "id": "ADOqflyEgNtS"
      },
      "source": [
        "sns.pairplot(df[['fixed.acidity','volatile.acidity','citric.acid','residual.sugar','chlorides','free.sulfur.dioxide','total.sulfur.dioxide','density','pH','sulphates','alcohol','quality']], hue='quality')"
      ],
      "execution_count": null,
      "outputs": []
    },
    {
      "cell_type": "markdown",
      "metadata": {
        "id": "v_1PA7iTxpUz"
      },
      "source": [
        "**Questão4** Classifique os dados de validação."
      ]
    },
    {
      "cell_type": "code",
      "metadata": {
        "colab": {
          "base_uri": "https://localhost:8080/"
        },
        "id": "rBFhrBaPxsAh",
        "outputId": "182d673d-dc59-4b50-a823-fbb4182facc2"
      },
      "source": [
        "#CLASSIFICAÇÃO\n",
        "classificador=classifier.predict(x_test)\n",
        "classificador"
      ],
      "execution_count": 249,
      "outputs": [
        {
          "output_type": "execute_result",
          "data": {
            "text/plain": [
              "array([6, 6, 5, 5, 5, 5, 5, 5, 5, 6, 5, 7, 5, 5, 5, 5, 5, 5, 6, 5, 5, 6,\n",
              "       5, 5, 7, 6, 5, 5, 5, 6, 7, 5, 6, 5, 5, 5, 5, 5, 5, 5, 5, 5, 5, 5,\n",
              "       5, 6, 5, 5, 6, 5, 5, 6, 5, 6, 6, 5, 6, 5, 5, 6, 5, 5, 7, 6, 5, 6,\n",
              "       6, 5, 6, 5, 6, 6, 6, 5, 5, 5, 5, 5, 5, 5, 5, 5, 7, 6, 6, 5, 5, 6,\n",
              "       5, 5, 6, 5, 6, 5, 5, 5, 5, 6, 6, 5, 6, 5, 6, 5, 6, 5, 5, 5, 5, 5,\n",
              "       6, 6, 6, 7, 5, 5, 7, 7, 5, 6, 5, 5, 5, 6, 6, 5, 6, 6, 6, 5, 6, 6,\n",
              "       6, 6, 5, 5, 5, 5, 6, 5, 6, 6, 5, 6, 6, 5, 5, 5, 5, 5, 5, 6, 5, 6,\n",
              "       6, 6, 6, 6, 5, 5, 5, 5, 6, 6, 5, 5, 5, 6, 6, 6, 7, 5, 6, 6, 6, 7,\n",
              "       5, 6, 5, 6, 7, 6, 6, 6, 5, 5, 5, 6, 6, 5, 6, 6, 6, 6, 6, 6, 6, 5,\n",
              "       6, 5, 5, 5, 5, 5, 6, 5, 5, 6, 6, 5, 6, 5, 6, 6, 6, 6, 6, 5, 5, 6,\n",
              "       7, 6, 6, 6, 5, 6, 5, 6, 5, 6, 6, 6, 5, 6, 6, 5, 5, 5, 5, 5, 5, 6,\n",
              "       6, 5, 6, 5, 5, 5, 6, 7, 6, 5, 5, 6, 6, 6, 5, 6, 5, 6, 6, 5, 5, 5,\n",
              "       6, 6, 6, 5, 5, 5, 5, 5, 5, 7, 6, 5, 5, 5, 5, 6, 5, 6, 5, 5, 6, 5,\n",
              "       7, 5, 6, 5, 5, 5, 5, 5, 6, 5, 5, 5, 7, 6, 6, 5, 5, 6, 5, 5, 5, 6,\n",
              "       5, 6, 5, 5, 5, 5, 5, 5, 5, 6, 6, 5])"
            ]
          },
          "metadata": {
            "tags": []
          },
          "execution_count": 249
        }
      ]
    },
    {
      "cell_type": "markdown",
      "metadata": {
        "id": "DczYjDBPxDqZ"
      },
      "source": [
        "**Questão5** Calcule a matriz de confusão e acurácia no conjunto de validação. "
      ]
    },
    {
      "cell_type": "code",
      "metadata": {
        "colab": {
          "base_uri": "https://localhost:8080/"
        },
        "id": "H9mEfcrGfn7s",
        "outputId": "673e9222-18b3-42f2-efbd-953bfd376da2"
      },
      "source": [
        "#MATRIZ DE CONFUSAO E ACURACIA\n",
        "rf=RandomForestClassifier()\n",
        "rf.fit(x_train,y_train)\n",
        "pred_rf=rf.predict(x_test)\n",
        "\n",
        "print(classification_report(y_test,pred_rf))\n",
        "\n",
        "cross_val = cross_val_score(estimator=rf, X=x_train,y=y_train,cv=10)\n",
        "print(cross_val.mean())"
      ],
      "execution_count": 250,
      "outputs": [
        {
          "output_type": "stream",
          "text": [
            "/usr/local/lib/python3.7/dist-packages/sklearn/metrics/_classification.py:1272: UndefinedMetricWarning: Precision and F-score are ill-defined and being set to 0.0 in labels with no predicted samples. Use `zero_division` parameter to control this behavior.\n",
            "  _warn_prf(average, modifier, msg_start, len(result))\n",
            "/usr/local/lib/python3.7/dist-packages/sklearn/model_selection/_split.py:667: UserWarning: The least populated class in y has only 7 members, which is less than n_splits=10.\n",
            "  % (min_groups, self.n_splits)), UserWarning)\n"
          ],
          "name": "stderr"
        },
        {
          "output_type": "stream",
          "text": [
            "              precision    recall  f1-score   support\n",
            "\n",
            "           3       0.00      0.00      0.00         3\n",
            "           4       0.00      0.00      0.00        17\n",
            "           5       0.73      0.85      0.78       142\n",
            "           6       0.66      0.69      0.67       116\n",
            "           7       0.72      0.59      0.65        39\n",
            "           8       1.00      0.33      0.50         3\n",
            "\n",
            "    accuracy                           0.70       320\n",
            "   macro avg       0.52      0.41      0.43       320\n",
            "weighted avg       0.66      0.70      0.68       320\n",
            "\n",
            "0.6880905511811024\n"
          ],
          "name": "stdout"
        }
      ]
    },
    {
      "cell_type": "code",
      "metadata": {
        "colab": {
          "base_uri": "https://localhost:8080/"
        },
        "id": "hrg0O1N7zizC",
        "outputId": "d5068e9d-44b7-46dd-931f-cbc2edb74594"
      },
      "source": [
        "#MATRIZ DE CONFUSAO E ACURACIA\n",
        "\n",
        "n3=KNeighborsClassifier(n_neighbors=5)\n",
        "n3.fit(x_train,y_train)\n",
        "pred_n3=n3.predict(x_test)\n",
        "\n",
        "print(classification_report(y_test,pred_n3))\n",
        "\n",
        "cross_val = cross_val_score(estimator=n3, X=x_train,y=y_train,cv=10)\n",
        "print(cross_val.mean())"
      ],
      "execution_count": 251,
      "outputs": [
        {
          "output_type": "stream",
          "text": [
            "              precision    recall  f1-score   support\n",
            "\n",
            "           3       0.00      0.00      0.00         3\n",
            "           4       0.00      0.00      0.00        17\n",
            "           5       0.64      0.70      0.67       142\n",
            "           6       0.49      0.54      0.51       116\n",
            "           7       0.49      0.44      0.46        39\n",
            "           8       0.00      0.00      0.00         3\n",
            "\n",
            "    accuracy                           0.56       320\n",
            "   macro avg       0.27      0.28      0.27       320\n",
            "weighted avg       0.52      0.56      0.54       320\n",
            "\n",
            "0.5801673228346457\n"
          ],
          "name": "stdout"
        },
        {
          "output_type": "stream",
          "text": [
            "/usr/local/lib/python3.7/dist-packages/sklearn/metrics/_classification.py:1272: UndefinedMetricWarning: Precision and F-score are ill-defined and being set to 0.0 in labels with no predicted samples. Use `zero_division` parameter to control this behavior.\n",
            "  _warn_prf(average, modifier, msg_start, len(result))\n",
            "/usr/local/lib/python3.7/dist-packages/sklearn/model_selection/_split.py:667: UserWarning: The least populated class in y has only 7 members, which is less than n_splits=10.\n",
            "  % (min_groups, self.n_splits)), UserWarning)\n"
          ],
          "name": "stderr"
        }
      ]
    },
    {
      "cell_type": "code",
      "metadata": {
        "id": "4R4wciPa4Kv_",
        "colab": {
          "base_uri": "https://localhost:8080/"
        },
        "outputId": "b69e44b2-4bed-4f1e-cf91-0ccf91da7693"
      },
      "source": [
        "from sklearn.ensemble import ExtraTreesClassifier\n",
        "modelo =ExtraTreesClassifier()\n",
        "modelo.fit(x_treino, y_treino)\n",
        "\n",
        "resultado = modelo.score(x_teste, y_teste)\n",
        "print(\"Acuracia: \", resultado)"
      ],
      "execution_count": 252,
      "outputs": [
        {
          "output_type": "stream",
          "text": [
            "Acuracia:  0.69375\n"
          ],
          "name": "stdout"
        }
      ]
    },
    {
      "cell_type": "markdown",
      "metadata": {
        "id": "mIwXGTw4XIpZ"
      },
      "source": [
        "."
      ]
    },
    {
      "cell_type": "markdown",
      "metadata": {
        "id": "b9oZ2tZ7XIrs"
      },
      "source": [
        "."
      ]
    },
    {
      "cell_type": "markdown",
      "metadata": {
        "id": "no8CZckoXIt4"
      },
      "source": [
        "."
      ]
    },
    {
      "cell_type": "code",
      "metadata": {
        "id": "fGhwSJnWd2X-"
      },
      "source": [
        "#Load in the red wine data from the UCI ML website.\n",
        "#df = pd.read_csv('http://archive.ics.uci.edu/ml/machine-learning-databases/wine-quality/winequality-red.csv',sep=';')\n",
        "#Take a look\n",
        "#print(df.head(10))\n",
        "#Data dimensionality (rows, colums)\n",
        "#print(df.shape)\n",
        "# Data distributing\n",
        "#df.info()"
      ],
      "execution_count": null,
      "outputs": []
    },
    {
      "cell_type": "code",
      "metadata": {
        "id": "PjJCIkAYlkTx"
      },
      "source": [
        "#from sklearn.model_selection import train_test_split\n",
        "\n",
        "#x_treino, x_teste, y_treino, y_teste=train_test_split(x,y,test_size=0.2)"
      ],
      "execution_count": null,
      "outputs": []
    }
  ]
}