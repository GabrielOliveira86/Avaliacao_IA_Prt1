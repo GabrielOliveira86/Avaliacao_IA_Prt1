{
  "nbformat": 4,
  "nbformat_minor": 0,
  "metadata": {
    "colab": {
      "name": "iaAv2P2.ipynb",
      "provenance": [],
      "collapsed_sections": []
    },
    "kernelspec": {
      "name": "python3",
      "display_name": "Python 3"
    },
    "language_info": {
      "name": "python"
    }
  },
  "cells": [
    {
      "cell_type": "markdown",
      "metadata": {
        "id": "jXSsoeoI6jDh"
      },
      "source": [
        "**Gabriel Oliveira dos Santos \n",
        "  //  Vitor Luan Pires do Prado**"
      ]
    },
    {
      "cell_type": "code",
      "metadata": {
        "id": "Se_A_xOW5-_7"
      },
      "source": [
        "import pandas as pd\n",
        "import numpy as np\n",
        "import matplotlib.pyplot as plt\n",
        "%matplotlib inline\n",
        "from sklearn.datasets import load_breast_cancer\n",
        "from sklearn.svm import SVC\n",
        "import seaborn as sns\n",
        "from sklearn import svm\n",
        "\n",
        "from sklearn.pipeline import Pipeline\n",
        "from sklearn.metrics import accuracy_score\n",
        "from sklearn.preprocessing import MinMaxScaler\n",
        "from sklearn.preprocessing import StandardScaler\n",
        "\n",
        "from sklearn.model_selection import cross_val_predict\n",
        "from sklearn import metrics\n",
        "from sklearn.model_selection import train_test_split\n",
        "\n",
        "from sklearn.neighbors import KNeighborsClassifier\n",
        "from sklearn.metrics import classification_report\n",
        "from sklearn.model_selection import cross_val_score\n",
        "from sklearn.model_selection import train_test_split\n",
        "\n",
        "from sklearn.naive_bayes import GaussianNB"
      ],
      "execution_count": 1,
      "outputs": []
    },
    {
      "cell_type": "code",
      "metadata": {
        "id": "Hm_bLtX86M37"
      },
      "source": [
        "#QUANTIDADE\n",
        "df_val= pd.read_csv('wineQuality_val.data')\n",
        "df_test= pd.read_csv('wineQuality_test.data')\n",
        "df_train= pd.read_csv('wineQuality_train.data')"
      ],
      "execution_count": 2,
      "outputs": []
    },
    {
      "cell_type": "code",
      "metadata": {
        "id": "pl3C9FpT6OfS"
      },
      "source": [
        "#INTERVALOS\n",
        "df_val.describe()"
      ],
      "execution_count": null,
      "outputs": []
    },
    {
      "cell_type": "code",
      "metadata": {
        "id": "VDddjsOA6SmP"
      },
      "source": [
        "#Treinamento e normalização\n",
        "y=df_train['quality']\n",
        "x=df_train.drop('quality',axis=1)\n",
        "\n",
        "yt=df_test['quality']\n",
        "xt=df_test.drop('quality',axis=1)\n",
        "\n",
        "\n",
        "x,xt,y, yt = train_test_split(x, y,test_size=0.2)"
      ],
      "execution_count": 4,
      "outputs": []
    },
    {
      "cell_type": "code",
      "metadata": {
        "id": "bVxSzyXI7S5R"
      },
      "source": [
        "model= GaussianNB()\n",
        "model.fit(x,y)\n",
        "pred=model.predict(x)"
      ],
      "execution_count": 5,
      "outputs": []
    },
    {
      "cell_type": "code",
      "metadata": {
        "id": "zRuzScT193xQ"
      },
      "source": [
        "sc = MinMaxScaler()\n",
        "\n",
        "x = sc.fit_transform(x)\n",
        "xt = sc.fit_transform(xt)"
      ],
      "execution_count": 6,
      "outputs": []
    },
    {
      "cell_type": "code",
      "metadata": {
        "id": "P9eLGivG7fbi"
      },
      "source": [
        "print(pd.crosstab(y,pred,rownames=['Real'],colnames=['Predito'],margins=True))"
      ],
      "execution_count": null,
      "outputs": []
    },
    {
      "cell_type": "code",
      "metadata": {
        "colab": {
          "base_uri": "https://localhost:8080/"
        },
        "id": "Zj9g2Rz-8ilp",
        "outputId": "c8a56f63-2996-4a46-a793-acb24375f1fa"
      },
      "source": [
        "print(accuracy_score(y, pred))"
      ],
      "execution_count": 8,
      "outputs": [
        {
          "output_type": "stream",
          "text": [
            "0.7418216805644644\n"
          ],
          "name": "stdout"
        }
      ]
    },
    {
      "cell_type": "code",
      "metadata": {
        "id": "La7geWJUA7DQ"
      },
      "source": [
        "#MATRIZ DE CONFUSAO E ACURACIA\n",
        "from sklearn.ensemble import RandomForestClassifier\n",
        "rf=RandomForestClassifier()\n",
        "rf.fit(x,y)\n",
        "pred_rf=rf.predict(xt)\n",
        "\n",
        "print(classification_report(yt,pred_rf))\n",
        "\n",
        "cross_val = cross_val_score(estimator=rf, X=x,y=y,cv=10)\n",
        "#print(cross_val.mean())"
      ],
      "execution_count": null,
      "outputs": []
    },
    {
      "cell_type": "markdown",
      "metadata": {
        "id": "jYbsIfKQFe22"
      },
      "source": [
        "Acurácia SVM 76%"
      ]
    },
    {
      "cell_type": "markdown",
      "metadata": {
        "id": "zvmdKPp1FfEV"
      },
      "source": [
        "Acurácia NaiveBayes 74%"
      ]
    },
    {
      "cell_type": "markdown",
      "metadata": {
        "id": "fT-VEMPlEMdk"
      },
      "source": [
        "O NaiveBayes se mostrou mais preciso que o SVM com uma diferença média de 2% a 4% entre eles"
      ]
    }
  ]
}